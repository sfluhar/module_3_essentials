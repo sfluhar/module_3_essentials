{
 "cells": [
  {
   "cell_type": "markdown",
   "metadata": {},
   "source": [
    "These packages allow us to reshape and analyze the data"
   ]
  },
  {
   "cell_type": "code",
   "execution_count": 1,
   "metadata": {},
   "outputs": [],
   "source": [
    "import pandas as pd\n",
    "import numpy as np"
   ]
  },
  {
   "cell_type": "markdown",
   "metadata": {},
   "source": [
    "This data comes from here: https://www.phoenixopendata.com/dataset/crime-data"
   ]
  },
  {
   "cell_type": "code",
   "execution_count": 2,
   "metadata": {},
   "outputs": [
    {
     "name": "stderr",
     "output_type": "stream",
     "text": [
      "C:\\Users\\Sterling\\AnacondaNew\\lib\\site-packages\\IPython\\core\\interactiveshell.py:3146: DtypeWarning: Columns (0) have mixed types.Specify dtype option on import or set low_memory=False.\n",
      "  has_raised = await self.run_ast_nodes(code_ast.body, cell_name,\n"
     ]
    }
   ],
   "source": [
    "zip_crimes = pd.read_csv('crimestat.csv')"
   ]
  },
  {
   "cell_type": "markdown",
   "metadata": {},
   "source": [
    "This data comes from https://data.census.gov using 5-digit ZIP codes in Arizona and the 2021 American Community Survey as filters. I selected tables S0101 and S1401."
   ]
  },
  {
   "cell_type": "code",
   "execution_count": 3,
   "metadata": {},
   "outputs": [],
   "source": [
    "zip_tot_pop = pd.read_csv('ACSST5Y2021.S0101-Data.csv')"
   ]
  },
  {
   "cell_type": "code",
   "execution_count": 82,
   "metadata": {},
   "outputs": [],
   "source": [
    "zip_enrolled_school = pd.read_csv('ACSST5Y2021.S1401-Data.csv')"
   ]
  },
  {
   "cell_type": "markdown",
   "metadata": {},
   "source": [
    "This section uses Pandas to group the crime data by ZIP code to get a total count of crimes per ZIP code over the period"
   ]
  },
  {
   "cell_type": "code",
   "execution_count": 15,
   "metadata": {},
   "outputs": [],
   "source": [
    "zip_crimes_tot = zip_crimes.groupby('ZIP')['UCR CRIME CATEGORY'].count().reset_index()\n",
    "zip_crimes_tot.columns = ['ZIP','crime_count']"
   ]
  },
  {
   "cell_type": "code",
   "execution_count": 16,
   "metadata": {},
   "outputs": [
    {
     "data": {
      "text/html": [
       "<div>\n",
       "<style scoped>\n",
       "    .dataframe tbody tr th:only-of-type {\n",
       "        vertical-align: middle;\n",
       "    }\n",
       "\n",
       "    .dataframe tbody tr th {\n",
       "        vertical-align: top;\n",
       "    }\n",
       "\n",
       "    .dataframe thead th {\n",
       "        text-align: right;\n",
       "    }\n",
       "</style>\n",
       "<table border=\"1\" class=\"dataframe\">\n",
       "  <thead>\n",
       "    <tr style=\"text-align: right;\">\n",
       "      <th></th>\n",
       "      <th>ZIP</th>\n",
       "      <th>crime_count</th>\n",
       "    </tr>\n",
       "  </thead>\n",
       "  <tbody>\n",
       "    <tr>\n",
       "      <th>0</th>\n",
       "      <td>85003.0</td>\n",
       "      <td>6093</td>\n",
       "    </tr>\n",
       "    <tr>\n",
       "      <th>1</th>\n",
       "      <td>85004.0</td>\n",
       "      <td>6281</td>\n",
       "    </tr>\n",
       "    <tr>\n",
       "      <th>2</th>\n",
       "      <td>85006.0</td>\n",
       "      <td>9298</td>\n",
       "    </tr>\n",
       "    <tr>\n",
       "      <th>3</th>\n",
       "      <td>85007.0</td>\n",
       "      <td>8547</td>\n",
       "    </tr>\n",
       "    <tr>\n",
       "      <th>4</th>\n",
       "      <td>85008.0</td>\n",
       "      <td>22483</td>\n",
       "    </tr>\n",
       "  </tbody>\n",
       "</table>\n",
       "</div>"
      ],
      "text/plain": [
       "       ZIP  crime_count\n",
       "0  85003.0         6093\n",
       "1  85004.0         6281\n",
       "2  85006.0         9298\n",
       "3  85007.0         8547\n",
       "4  85008.0        22483"
      ]
     },
     "execution_count": 16,
     "metadata": {},
     "output_type": "execute_result"
    }
   ],
   "source": [
    "zip_crimes_tot.head()"
   ]
  },
  {
   "cell_type": "markdown",
   "metadata": {},
   "source": [
    "This section uses census data to get the 2021 population for each ZIP code in the Phoenix area"
   ]
  },
  {
   "cell_type": "code",
   "execution_count": 17,
   "metadata": {},
   "outputs": [
    {
     "data": {
      "text/plain": [
       "Index(['GEO_ID', 'NAME', 'S0101_C01_001E', 'S0101_C01_001M', 'S0101_C01_001MA',\n",
       "       'S0101_C01_001EA', 'S0101_C01_002E', 'S0101_C01_002M',\n",
       "       'S0101_C01_002MA', 'S0101_C01_002EA',\n",
       "       ...\n",
       "       'S0101_C06_036MA', 'S0101_C06_037E', 'S0101_C06_037EA',\n",
       "       'S0101_C06_037M', 'S0101_C06_037MA', 'S0101_C06_038E',\n",
       "       'S0101_C06_038EA', 'S0101_C06_038M', 'S0101_C06_038MA', 'Unnamed: 914'],\n",
       "      dtype='object', length=915)"
      ]
     },
     "execution_count": 17,
     "metadata": {},
     "output_type": "execute_result"
    }
   ],
   "source": [
    "zip_tot_pop.columns"
   ]
  },
  {
   "cell_type": "code",
   "execution_count": 18,
   "metadata": {},
   "outputs": [],
   "source": [
    "zip_tot_pop_slice = zip_tot_pop[['NAME', 'S0101_C01_001E']]"
   ]
  },
  {
   "cell_type": "code",
   "execution_count": 19,
   "metadata": {},
   "outputs": [],
   "source": [
    "zip_tot_pop_slice = zip_tot_pop_slice.copy(deep=True)"
   ]
  },
  {
   "cell_type": "markdown",
   "metadata": {},
   "source": [
    "This section extracts the ZIP code from the NAME field of the census data and converts it (and the population) into a number"
   ]
  },
  {
   "cell_type": "code",
   "execution_count": 25,
   "metadata": {},
   "outputs": [],
   "source": [
    "def get_zip(cell):\n",
    "    try:\n",
    "        cell_split = cell.split(' ')\n",
    "        return cell_split[-1]\n",
    "    except:\n",
    "        return cell"
   ]
  },
  {
   "cell_type": "code",
   "execution_count": 26,
   "metadata": {},
   "outputs": [],
   "source": [
    "zip_tot_pop_slice['NAME'] = zip_tot_pop_slice['NAME'].apply(get_zip)"
   ]
  },
  {
   "cell_type": "code",
   "execution_count": 28,
   "metadata": {},
   "outputs": [],
   "source": [
    "zip_tot_pop_slice.columns = ['ZIP','tot_pop']"
   ]
  },
  {
   "cell_type": "code",
   "execution_count": 34,
   "metadata": {},
   "outputs": [],
   "source": [
    "zip_tot_pop_slice['ZIP'] = pd.to_numeric(zip_tot_pop_slice['ZIP'], errors='coerce')\n",
    "zip_tot_pop_slice['tot_pop'] = pd.to_numeric(zip_tot_pop_slice['tot_pop'], errors='coerce')"
   ]
  },
  {
   "cell_type": "code",
   "execution_count": 35,
   "metadata": {},
   "outputs": [
    {
     "data": {
      "text/html": [
       "<div>\n",
       "<style scoped>\n",
       "    .dataframe tbody tr th:only-of-type {\n",
       "        vertical-align: middle;\n",
       "    }\n",
       "\n",
       "    .dataframe tbody tr th {\n",
       "        vertical-align: top;\n",
       "    }\n",
       "\n",
       "    .dataframe thead th {\n",
       "        text-align: right;\n",
       "    }\n",
       "</style>\n",
       "<table border=\"1\" class=\"dataframe\">\n",
       "  <thead>\n",
       "    <tr style=\"text-align: right;\">\n",
       "      <th></th>\n",
       "      <th>ZIP</th>\n",
       "      <th>tot_pop</th>\n",
       "    </tr>\n",
       "  </thead>\n",
       "  <tbody>\n",
       "    <tr>\n",
       "      <th>0</th>\n",
       "      <td>NaN</td>\n",
       "      <td>NaN</td>\n",
       "    </tr>\n",
       "    <tr>\n",
       "      <th>1</th>\n",
       "      <td>84531.0</td>\n",
       "      <td>478.0</td>\n",
       "    </tr>\n",
       "    <tr>\n",
       "      <th>2</th>\n",
       "      <td>84536.0</td>\n",
       "      <td>1495.0</td>\n",
       "    </tr>\n",
       "    <tr>\n",
       "      <th>3</th>\n",
       "      <td>85003.0</td>\n",
       "      <td>8105.0</td>\n",
       "    </tr>\n",
       "    <tr>\n",
       "      <th>4</th>\n",
       "      <td>85004.0</td>\n",
       "      <td>9071.0</td>\n",
       "    </tr>\n",
       "  </tbody>\n",
       "</table>\n",
       "</div>"
      ],
      "text/plain": [
       "       ZIP  tot_pop\n",
       "0      NaN      NaN\n",
       "1  84531.0    478.0\n",
       "2  84536.0   1495.0\n",
       "3  85003.0   8105.0\n",
       "4  85004.0   9071.0"
      ]
     },
     "execution_count": 35,
     "metadata": {},
     "output_type": "execute_result"
    }
   ],
   "source": [
    "zip_tot_pop_slice.head()"
   ]
  },
  {
   "cell_type": "markdown",
   "metadata": {},
   "source": [
    "In this section we merge the crime data and the population data using the common key of ZIP code"
   ]
  },
  {
   "cell_type": "code",
   "execution_count": 39,
   "metadata": {},
   "outputs": [],
   "source": [
    "zip_crime_rate = zip_crimes_tot.merge(zip_tot_pop_slice)"
   ]
  },
  {
   "cell_type": "markdown",
   "metadata": {},
   "source": [
    "This section calculates a crime rate for each ZIP code by dividing its crime count by its population figure"
   ]
  },
  {
   "cell_type": "code",
   "execution_count": 41,
   "metadata": {},
   "outputs": [],
   "source": [
    "zip_crime_rate['crime_rate'] = zip_crime_rate['crime_count'] / zip_crime_rate['tot_pop']"
   ]
  },
  {
   "cell_type": "code",
   "execution_count": 42,
   "metadata": {},
   "outputs": [
    {
     "data": {
      "text/html": [
       "<div>\n",
       "<style scoped>\n",
       "    .dataframe tbody tr th:only-of-type {\n",
       "        vertical-align: middle;\n",
       "    }\n",
       "\n",
       "    .dataframe tbody tr th {\n",
       "        vertical-align: top;\n",
       "    }\n",
       "\n",
       "    .dataframe thead th {\n",
       "        text-align: right;\n",
       "    }\n",
       "</style>\n",
       "<table border=\"1\" class=\"dataframe\">\n",
       "  <thead>\n",
       "    <tr style=\"text-align: right;\">\n",
       "      <th></th>\n",
       "      <th>ZIP</th>\n",
       "      <th>crime_count</th>\n",
       "      <th>tot_pop</th>\n",
       "      <th>crime_rate</th>\n",
       "    </tr>\n",
       "  </thead>\n",
       "  <tbody>\n",
       "    <tr>\n",
       "      <th>0</th>\n",
       "      <td>85003.0</td>\n",
       "      <td>6093</td>\n",
       "      <td>8105.0</td>\n",
       "      <td>0.751758</td>\n",
       "    </tr>\n",
       "    <tr>\n",
       "      <th>1</th>\n",
       "      <td>85003.0</td>\n",
       "      <td>6093</td>\n",
       "      <td>8105.0</td>\n",
       "      <td>0.751758</td>\n",
       "    </tr>\n",
       "    <tr>\n",
       "      <th>2</th>\n",
       "      <td>85004.0</td>\n",
       "      <td>6281</td>\n",
       "      <td>9071.0</td>\n",
       "      <td>0.692426</td>\n",
       "    </tr>\n",
       "    <tr>\n",
       "      <th>3</th>\n",
       "      <td>85004.0</td>\n",
       "      <td>6281</td>\n",
       "      <td>9071.0</td>\n",
       "      <td>0.692426</td>\n",
       "    </tr>\n",
       "    <tr>\n",
       "      <th>4</th>\n",
       "      <td>85006.0</td>\n",
       "      <td>9298</td>\n",
       "      <td>24777.0</td>\n",
       "      <td>0.375267</td>\n",
       "    </tr>\n",
       "  </tbody>\n",
       "</table>\n",
       "</div>"
      ],
      "text/plain": [
       "       ZIP  crime_count  tot_pop  crime_rate\n",
       "0  85003.0         6093   8105.0    0.751758\n",
       "1  85003.0         6093   8105.0    0.751758\n",
       "2  85004.0         6281   9071.0    0.692426\n",
       "3  85004.0         6281   9071.0    0.692426\n",
       "4  85006.0         9298  24777.0    0.375267"
      ]
     },
     "execution_count": 42,
     "metadata": {},
     "output_type": "execute_result"
    }
   ],
   "source": [
    "zip_crime_rate.head()"
   ]
  },
  {
   "cell_type": "markdown",
   "metadata": {},
   "source": [
    "This section gets the percentage enrolled for various age groups by ZIP code and converts it to a number in decimal format"
   ]
  },
  {
   "cell_type": "code",
   "execution_count": 84,
   "metadata": {},
   "outputs": [
    {
     "data": {
      "text/plain": [
       "Index(['GEO_ID', 'NAME', 'S1401_C01_001E', 'S1401_C01_001EA', 'S1401_C01_001M',\n",
       "       'S1401_C01_001MA', 'S1401_C01_002E', 'S1401_C01_002M',\n",
       "       'S1401_C01_002MA', 'S1401_C01_002EA',\n",
       "       ...\n",
       "       'S1401_C06_032MA', 'S1401_C06_033E', 'S1401_C06_033EA',\n",
       "       'S1401_C06_033M', 'S1401_C06_033MA', 'S1401_C06_034E', 'S1401_C06_034M',\n",
       "       'S1401_C06_034MA', 'S1401_C06_034EA', 'Unnamed: 818'],\n",
       "      dtype='object', length=819)"
      ]
     },
     "execution_count": 84,
     "metadata": {},
     "output_type": "execute_result"
    }
   ],
   "source": [
    "zip_enrolled_school.columns"
   ]
  },
  {
   "cell_type": "code",
   "execution_count": 86,
   "metadata": {},
   "outputs": [],
   "source": [
    "zip_enrolled_school_slice = zip_enrolled_school[['NAME','S1401_C02_020E','S1401_C02_022E','S1401_C02_024E','S1401_C02_026E']]"
   ]
  },
  {
   "cell_type": "code",
   "execution_count": 87,
   "metadata": {},
   "outputs": [],
   "source": [
    "zip_enrolled_school_slice = zip_enrolled_school_slice.copy(deep=True)"
   ]
  },
  {
   "cell_type": "code",
   "execution_count": 88,
   "metadata": {},
   "outputs": [],
   "source": [
    "zip_enrolled_school_slice['NAME'] = zip_enrolled_school_slice['NAME'].apply(get_zip)"
   ]
  },
  {
   "cell_type": "code",
   "execution_count": 89,
   "metadata": {},
   "outputs": [],
   "source": [
    "zip_enrolled_school_slice.columns = ['ZIP','percent_15_17_enrolled_school','percent_18_19_enrolled_school',\n",
    "                                           'percent_20_24_enrolled_school','percent_25_34_enrolled_school']"
   ]
  },
  {
   "cell_type": "code",
   "execution_count": 90,
   "metadata": {},
   "outputs": [],
   "source": [
    "zip_enrolled_school_slice['ZIP'] = pd.to_numeric(zip_enrolled_school_slice['ZIP'], errors='coerce')\n",
    "zip_enrolled_school_slice['percent_15_17_enrolled_school'] = pd.to_numeric(\n",
    "    zip_enrolled_school_slice['percent_15_17_enrolled_school'], errors='coerce')\n",
    "zip_enrolled_school_slice['percent_18_19_enrolled_school'] = pd.to_numeric(\n",
    "    zip_enrolled_school_slice['percent_18_19_enrolled_school'], errors='coerce')\n",
    "zip_enrolled_school_slice['percent_20_24_enrolled_school'] = pd.to_numeric(\n",
    "    zip_enrolled_school_slice['percent_20_24_enrolled_school'], errors='coerce')\n",
    "zip_enrolled_school_slice['percent_25_34_enrolled_school'] = pd.to_numeric(\n",
    "    zip_enrolled_school_slice['percent_25_34_enrolled_school'], errors='coerce')"
   ]
  },
  {
   "cell_type": "code",
   "execution_count": 91,
   "metadata": {},
   "outputs": [],
   "source": [
    "zip_enrolled_school_slice['percent_15_17_enrolled_school'] = zip_enrolled_school_slice['percent_15_17_enrolled_school'] / 100\n",
    "zip_enrolled_school_slice['percent_18_19_enrolled_school'] = zip_enrolled_school_slice['percent_18_19_enrolled_school'] / 100\n",
    "zip_enrolled_school_slice['percent_20_24_enrolled_school'] = zip_enrolled_school_slice['percent_20_24_enrolled_school'] / 100\n",
    "zip_enrolled_school_slice['percent_25_34_enrolled_school'] = zip_enrolled_school_slice['percent_25_34_enrolled_school'] / 100"
   ]
  },
  {
   "cell_type": "code",
   "execution_count": 92,
   "metadata": {},
   "outputs": [
    {
     "data": {
      "text/html": [
       "<div>\n",
       "<style scoped>\n",
       "    .dataframe tbody tr th:only-of-type {\n",
       "        vertical-align: middle;\n",
       "    }\n",
       "\n",
       "    .dataframe tbody tr th {\n",
       "        vertical-align: top;\n",
       "    }\n",
       "\n",
       "    .dataframe thead th {\n",
       "        text-align: right;\n",
       "    }\n",
       "</style>\n",
       "<table border=\"1\" class=\"dataframe\">\n",
       "  <thead>\n",
       "    <tr style=\"text-align: right;\">\n",
       "      <th></th>\n",
       "      <th>ZIP</th>\n",
       "      <th>percent_15_17_enrolled_school</th>\n",
       "      <th>percent_18_19_enrolled_school</th>\n",
       "      <th>percent_20_24_enrolled_school</th>\n",
       "      <th>percent_25_34_enrolled_school</th>\n",
       "    </tr>\n",
       "  </thead>\n",
       "  <tbody>\n",
       "    <tr>\n",
       "      <th>0</th>\n",
       "      <td>NaN</td>\n",
       "      <td>NaN</td>\n",
       "      <td>NaN</td>\n",
       "      <td>NaN</td>\n",
       "      <td>NaN</td>\n",
       "    </tr>\n",
       "    <tr>\n",
       "      <th>1</th>\n",
       "      <td>NaN</td>\n",
       "      <td>0.964</td>\n",
       "      <td>0.745</td>\n",
       "      <td>0.409</td>\n",
       "      <td>0.114</td>\n",
       "    </tr>\n",
       "    <tr>\n",
       "      <th>2</th>\n",
       "      <td>84531.0</td>\n",
       "      <td>0.333</td>\n",
       "      <td>0.357</td>\n",
       "      <td>0.000</td>\n",
       "      <td>0.435</td>\n",
       "    </tr>\n",
       "    <tr>\n",
       "      <th>3</th>\n",
       "      <td>84536.0</td>\n",
       "      <td>1.000</td>\n",
       "      <td>0.645</td>\n",
       "      <td>0.290</td>\n",
       "      <td>0.091</td>\n",
       "    </tr>\n",
       "    <tr>\n",
       "      <th>4</th>\n",
       "      <td>85003.0</td>\n",
       "      <td>0.938</td>\n",
       "      <td>0.395</td>\n",
       "      <td>0.418</td>\n",
       "      <td>0.118</td>\n",
       "    </tr>\n",
       "  </tbody>\n",
       "</table>\n",
       "</div>"
      ],
      "text/plain": [
       "       ZIP  percent_15_17_enrolled_school  percent_18_19_enrolled_school  \\\n",
       "0      NaN                            NaN                            NaN   \n",
       "1      NaN                          0.964                          0.745   \n",
       "2  84531.0                          0.333                          0.357   \n",
       "3  84536.0                          1.000                          0.645   \n",
       "4  85003.0                          0.938                          0.395   \n",
       "\n",
       "   percent_20_24_enrolled_school  percent_25_34_enrolled_school  \n",
       "0                            NaN                            NaN  \n",
       "1                          0.409                          0.114  \n",
       "2                          0.000                          0.435  \n",
       "3                          0.290                          0.091  \n",
       "4                          0.418                          0.118  "
      ]
     },
     "execution_count": 92,
     "metadata": {},
     "output_type": "execute_result"
    }
   ],
   "source": [
    "zip_enrolled_school_slice.head()"
   ]
  },
  {
   "cell_type": "markdown",
   "metadata": {},
   "source": [
    "This section merges the crime rate dataframe with the percentage enrolled for various age groups, using the common key of ZIP code"
   ]
  },
  {
   "cell_type": "code",
   "execution_count": 93,
   "metadata": {},
   "outputs": [],
   "source": [
    "zip_crime_school_rate = zip_crime_rate.merge(zip_enrolled_school_slice)"
   ]
  },
  {
   "cell_type": "code",
   "execution_count": 94,
   "metadata": {},
   "outputs": [
    {
     "data": {
      "text/html": [
       "<div>\n",
       "<style scoped>\n",
       "    .dataframe tbody tr th:only-of-type {\n",
       "        vertical-align: middle;\n",
       "    }\n",
       "\n",
       "    .dataframe tbody tr th {\n",
       "        vertical-align: top;\n",
       "    }\n",
       "\n",
       "    .dataframe thead th {\n",
       "        text-align: right;\n",
       "    }\n",
       "</style>\n",
       "<table border=\"1\" class=\"dataframe\">\n",
       "  <thead>\n",
       "    <tr style=\"text-align: right;\">\n",
       "      <th></th>\n",
       "      <th>ZIP</th>\n",
       "      <th>crime_count</th>\n",
       "      <th>tot_pop</th>\n",
       "      <th>crime_rate</th>\n",
       "      <th>percent_15_17_enrolled_school</th>\n",
       "      <th>percent_18_19_enrolled_school</th>\n",
       "      <th>percent_20_24_enrolled_school</th>\n",
       "      <th>percent_25_34_enrolled_school</th>\n",
       "    </tr>\n",
       "  </thead>\n",
       "  <tbody>\n",
       "    <tr>\n",
       "      <th>0</th>\n",
       "      <td>85003.0</td>\n",
       "      <td>6093</td>\n",
       "      <td>8105.0</td>\n",
       "      <td>0.751758</td>\n",
       "      <td>0.938</td>\n",
       "      <td>0.395</td>\n",
       "      <td>0.418</td>\n",
       "      <td>0.118</td>\n",
       "    </tr>\n",
       "    <tr>\n",
       "      <th>1</th>\n",
       "      <td>85003.0</td>\n",
       "      <td>6093</td>\n",
       "      <td>8105.0</td>\n",
       "      <td>0.751758</td>\n",
       "      <td>0.938</td>\n",
       "      <td>0.395</td>\n",
       "      <td>0.418</td>\n",
       "      <td>0.118</td>\n",
       "    </tr>\n",
       "    <tr>\n",
       "      <th>2</th>\n",
       "      <td>85003.0</td>\n",
       "      <td>6093</td>\n",
       "      <td>8105.0</td>\n",
       "      <td>0.751758</td>\n",
       "      <td>0.938</td>\n",
       "      <td>0.395</td>\n",
       "      <td>0.418</td>\n",
       "      <td>0.118</td>\n",
       "    </tr>\n",
       "    <tr>\n",
       "      <th>3</th>\n",
       "      <td>85003.0</td>\n",
       "      <td>6093</td>\n",
       "      <td>8105.0</td>\n",
       "      <td>0.751758</td>\n",
       "      <td>0.938</td>\n",
       "      <td>0.395</td>\n",
       "      <td>0.418</td>\n",
       "      <td>0.118</td>\n",
       "    </tr>\n",
       "    <tr>\n",
       "      <th>4</th>\n",
       "      <td>85004.0</td>\n",
       "      <td>6281</td>\n",
       "      <td>9071.0</td>\n",
       "      <td>0.692426</td>\n",
       "      <td>0.738</td>\n",
       "      <td>0.980</td>\n",
       "      <td>0.541</td>\n",
       "      <td>0.118</td>\n",
       "    </tr>\n",
       "  </tbody>\n",
       "</table>\n",
       "</div>"
      ],
      "text/plain": [
       "       ZIP  crime_count  tot_pop  crime_rate  percent_15_17_enrolled_school  \\\n",
       "0  85003.0         6093   8105.0    0.751758                          0.938   \n",
       "1  85003.0         6093   8105.0    0.751758                          0.938   \n",
       "2  85003.0         6093   8105.0    0.751758                          0.938   \n",
       "3  85003.0         6093   8105.0    0.751758                          0.938   \n",
       "4  85004.0         6281   9071.0    0.692426                          0.738   \n",
       "\n",
       "   percent_18_19_enrolled_school  percent_20_24_enrolled_school  \\\n",
       "0                          0.395                          0.418   \n",
       "1                          0.395                          0.418   \n",
       "2                          0.395                          0.418   \n",
       "3                          0.395                          0.418   \n",
       "4                          0.980                          0.541   \n",
       "\n",
       "   percent_25_34_enrolled_school  \n",
       "0                          0.118  \n",
       "1                          0.118  \n",
       "2                          0.118  \n",
       "3                          0.118  \n",
       "4                          0.118  "
      ]
     },
     "execution_count": 94,
     "metadata": {},
     "output_type": "execute_result"
    }
   ],
   "source": [
    "zip_crime_school_rate.head()"
   ]
  },
  {
   "cell_type": "markdown",
   "metadata": {},
   "source": [
    "This section downloads the above table as a csv file"
   ]
  },
  {
   "cell_type": "code",
   "execution_count": 97,
   "metadata": {},
   "outputs": [],
   "source": [
    "zip_crime_school_rate.to_csv('zip_crime_school_rate.csv',index=False)"
   ]
  },
  {
   "cell_type": "markdown",
   "metadata": {},
   "source": [
    "This section calculates the correlation, across the ZIP codes, between the crime rate and percent enrolled for various age groups. It finds that we could lower crime if we focused on helping youth between the ages of 15 and 17 as well as 20 to 24 to enroll and stay in school."
   ]
  },
  {
   "cell_type": "code",
   "execution_count": 95,
   "metadata": {},
   "outputs": [
    {
     "data": {
      "text/plain": [
       "-0.1777534133297583"
      ]
     },
     "execution_count": 95,
     "metadata": {},
     "output_type": "execute_result"
    }
   ],
   "source": [
    "zip_crime_school_rate['crime_rate'].corr(zip_crime_school_rate['percent_15_17_enrolled_school'])"
   ]
  },
  {
   "cell_type": "code",
   "execution_count": 79,
   "metadata": {},
   "outputs": [
    {
     "data": {
      "text/plain": [
       "-0.0688509087861424"
      ]
     },
     "execution_count": 79,
     "metadata": {},
     "output_type": "execute_result"
    }
   ],
   "source": [
    "zip_crime_school_rate['crime_rate'].corr(zip_crime_school_rate['percent_18_19_enrolled_school'])"
   ]
  },
  {
   "cell_type": "code",
   "execution_count": 80,
   "metadata": {},
   "outputs": [
    {
     "data": {
      "text/plain": [
       "-0.18379422804721066"
      ]
     },
     "execution_count": 80,
     "metadata": {},
     "output_type": "execute_result"
    }
   ],
   "source": [
    "zip_crime_school_rate['crime_rate'].corr(zip_crime_school_rate['percent_20_24_enrolled_school'])"
   ]
  },
  {
   "cell_type": "code",
   "execution_count": 81,
   "metadata": {},
   "outputs": [
    {
     "data": {
      "text/plain": [
       "-0.08945473152755529"
      ]
     },
     "execution_count": 81,
     "metadata": {},
     "output_type": "execute_result"
    }
   ],
   "source": [
    "zip_crime_school_rate['crime_rate'].corr(zip_crime_school_rate['percent_25_34_enrolled_school'])"
   ]
  },
  {
   "cell_type": "code",
   "execution_count": null,
   "metadata": {},
   "outputs": [],
   "source": []
  }
 ],
 "metadata": {
  "kernelspec": {
   "display_name": "Python 3",
   "language": "python",
   "name": "python3"
  },
  "language_info": {
   "codemirror_mode": {
    "name": "ipython",
    "version": 3
   },
   "file_extension": ".py",
   "mimetype": "text/x-python",
   "name": "python",
   "nbconvert_exporter": "python",
   "pygments_lexer": "ipython3",
   "version": "3.8.5"
  }
 },
 "nbformat": 4,
 "nbformat_minor": 4
}
